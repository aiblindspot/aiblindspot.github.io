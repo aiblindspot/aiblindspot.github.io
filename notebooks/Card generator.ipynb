{
 "cells": [
  {
   "cell_type": "code",
   "execution_count": 58,
   "metadata": {},
   "outputs": [],
   "source": [
    "from jinja2 import Environment, FileSystemLoader\n",
    "from collections import OrderedDict\n",
    "import pandas as pd"
   ]
  },
  {
   "cell_type": "code",
   "execution_count": 109,
   "metadata": {},
   "outputs": [],
   "source": [
    "## get base template\n",
    "env = Environment( loader = FileSystemLoader('../templates/') )\n",
    "template = env.get_template('card_template.html')"
   ]
  },
  {
   "cell_type": "markdown",
   "metadata": {},
   "source": [
    "## Generate cards"
   ]
  },
  {
   "cell_type": "code",
   "execution_count": 110,
   "metadata": {},
   "outputs": [],
   "source": [
    "## define color dict for highlighting card title in specific color\n",
    "color_dict = OrderedDict(\n",
    "    {'Planning':'#6CB7B6',\n",
    "    'Building':'#D46E54',\n",
    "    'Deploying':'#E3C268',\n",
    "    'Monitoring':'#9966cc'}\n",
    ")"
   ]
  },
  {
   "cell_type": "code",
   "execution_count": 111,
   "metadata": {},
   "outputs": [
    {
     "name": "stdout",
     "output_type": "stream",
     "text": [
      "('Planning', '#6CB7B6')\n",
      "('Building', '#D46E54')\n",
      "('Deploying', '#E3C268')\n",
      "('Monitoring', '#9966cc')\n"
     ]
    }
   ],
   "source": [
    "for color in color_dict.items():\n",
    "    print(color)"
   ]
  },
  {
   "cell_type": "code",
   "execution_count": 112,
   "metadata": {},
   "outputs": [
    {
     "data": {
      "text/plain": [
       "['.DS_Store', 'base_template.html', 'card_template.html']"
      ]
     },
     "execution_count": 112,
     "metadata": {},
     "output_type": "execute_result"
    }
   ],
   "source": [
    "env.list_templates()"
   ]
  },
  {
   "cell_type": "code",
   "execution_count": 113,
   "metadata": {},
   "outputs": [],
   "source": [
    "card_dict_list = [\n",
    "    {\n",
    "    'card_title':'Oversight',\n",
    "    'stage':'Monitoring',\n",
    "    'stage_color_dict':color_dict,\n",
    "    'headline':'Ethical principles, standards, and policies are futile unless monitored and enforced.  A diverse oversight body vested with formal authority can help to establish and maintain transparency, accountability, and sanctions.',\n",
    "    'considered_list':['Establishing an external oversight board to review the fairness of your system’s decisions, and outcome',\n",
    "                       'Giving the oversight board formal authority to prevent AI systems from being used at all',\n",
    "                       'Determining how recent regulatory changes affect data collection and use, as well as algorithm design'],\n",
    "    'case_study':'Google created an Advanced Technology Ethics Advisory Council to advise the company on its use of AI. However, they were not transparent about the roles, responsibilities, and authority. Rather than engage affected communities, Google appointed a Council member opposed LGBT rights. Google’s approach to oversight fostered distrust and protests, and the Council was dissolved.',\n",
    "    'engaged_list':['Affected communities', 'Subject matter experts', 'Civil society organizations'],\n",
    "    'resource_list':[('https://ainowinstitute.org/aiareport2018.pdf','Algorithmic Impact Assessments'),\n",
    "                     ('https://cyber.fsi.stanford.edu/publication/data-delusion',\"The Data Delusion: Protecting Individual Data Isn't Enough When The Harm is Collective\"),\n",
    "                     ('https://www.omidyar.com/sites/default/files/file_archive/Public%20Scrutiny%20of%20Automated%20Decisions.pdf','Public Scrutiny of Automated Decisions: Early Lessons and Emerging Methods')]\n",
    "    },\n",
    "    {\n",
    "    'card_title':'Consultation',\n",
    "    'stage':'Monitoring',\n",
    "    'stage_color_dict':color_dict,\n",
    "    'headline':'The first, last, and every step in-between should include public participation. AI practitioners must enable meaningful input, explanations, and disclosures to ensure that AI systems promote human flourishing and mitigate harms.',\n",
    "    'considered_list':['Soliciting feedback from diverse communities about their lived experiences to ensure the system is responsive to their needs',\n",
    "                       'Including communities who were not the intended users'],\n",
    "    'case_study':'The National Institute of Health seeks to recruit 1 millions participants to improve healthcare using precision medicine. They built a comprehensive website filled with clear and accessible information to engage with stakeholders and diverse communities across the United States.  Moreover, they proactively sought out community partners and champions to reach under-represented communities.',\n",
    "    'engaged_list':['Affected communities', 'Civil society organizations', 'Human rights advocates'],\n",
    "    'resource_list':[('https://designjustice.org/','Design Justice Network'),\n",
    "                     ('https://techpolicylab.uw.edu/news/diverse-voices-guide/','Diverse Voices'),\n",
    "                     ('https://interactions.acm.org/archive/view/november-december-2019/user-experience-as-legitimacy-trap','User experience as legitimacy trap')]   \n",
    "    }\n",
    "]"
   ]
  },
  {
   "cell_type": "code",
   "execution_count": 114,
   "metadata": {},
   "outputs": [],
   "source": [
    "for card in card_dict_list:\n",
    "    \n",
    "    filename = f\"../{card['card_title'].lower()}.html\"\n",
    "\n",
    "    with open(filename, 'w') as fn:\n",
    "        fn.write(template.render(\n",
    "            card_title = card['card_title'],\n",
    "            stage = card['stage'],\n",
    "            stage_color_dict = card['stage_color_dict'],\n",
    "            headline = card['headline'],\n",
    "            considered_list = card['considered_list'],\n",
    "            case_study = card['case_study'],\n",
    "            engaged_list = card['engaged_list'],\n",
    "            resource_list = card['resource_list'],\n",
    "        ))"
   ]
  },
  {
   "cell_type": "markdown",
   "metadata": {},
   "source": [
    "## Testing"
   ]
  },
  {
   "cell_type": "code",
   "execution_count": 50,
   "metadata": {},
   "outputs": [
    {
     "data": {
      "text/plain": [
       "['.DS_Store', 'base_template.html', 'test_card.html']"
      ]
     },
     "execution_count": 50,
     "metadata": {},
     "output_type": "execute_result"
    }
   ],
   "source": [
    "env.list_templates()"
   ]
  },
  {
   "cell_type": "code",
   "execution_count": 51,
   "metadata": {},
   "outputs": [],
   "source": [
    "card_dict = {\n",
    "    'card_title':'Test Card',\n",
    "    'stage':'Monitoring',\n",
    "    'stage_color_dict':color_dict,\n",
    "    'headline':'This is the test headline for this AI Blindspot card.',\n",
    "    'considered_list':['Creating scenarios with hypothetical malicious and innocent bystander personas',\n",
    "                       'Conducting “red team” exercises','Developing processes for long term mitigation and real-time damage control',\n",
    "                       'Engaging sociologists, ethnographers, and political scientists to understand the motivations and incentives that underpin threat models',\n",
    "                       'Conjuring up a worst-case scenario that might appear in tomorrow’s headline'],\n",
    "    'case_study':'This is the test case study. Blah blah blah...',\n",
    "    'case_study_list':[('https://www.google.com','This is the text for the case study link 1.'),\n",
    "                       ('https://www.bing.com','This is the text for the case study link 2.')],\n",
    "    'engaged_list':['People 1', 'People 2', 'Hello 2'],\n",
    "    'resource_list':[('https://www.google.com','This is the resource link text 1.'),\n",
    "                       ('https://www.bing.com','This is the resource link text 2.')]\n",
    "}"
   ]
  },
  {
   "cell_type": "code",
   "execution_count": 52,
   "metadata": {},
   "outputs": [],
   "source": [
    "temp_filename = '../test_card.html'\n",
    "\n",
    "with open(temp_filename, 'w') as f:\n",
    "    f.write(template.render(\n",
    "        card_title = card_dict['card_title'],\n",
    "        headline = card_dict['headline'],\n",
    "        considered_list = card_dict['considered_list'],\n",
    "        case_study = card_dict['case_study'],\n",
    "        case_study_list = card_dict['case_study_list'],\n",
    "        engaged_list = card_dict['engaged_list'],\n",
    "        resource_list = card_dict['resource_list'],\n",
    "    ))"
   ]
  },
  {
   "cell_type": "code",
   "execution_count": null,
   "metadata": {},
   "outputs": [],
   "source": []
  }
 ],
 "metadata": {
  "kernelspec": {
   "display_name": "Python 3",
   "language": "python",
   "name": "python3"
  },
  "language_info": {
   "codemirror_mode": {
    "name": "ipython",
    "version": 3
   },
   "file_extension": ".py",
   "mimetype": "text/x-python",
   "name": "python",
   "nbconvert_exporter": "python",
   "pygments_lexer": "ipython3",
   "version": "3.8.5"
  }
 },
 "nbformat": 4,
 "nbformat_minor": 4
}
